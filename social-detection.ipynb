{
 "cells": [
  {
   "cell_type": "markdown",
   "metadata": {},
   "source": [
    "# Social Distancing Detection - AWS Marketplace Model Package\n",
    "\n",
    "This app will count the number of people in the frame, number of peoople with safe and unsafe distance using deep Learning.\n",
    "\n",
    "This notebook is provided as an additional resource to assist you in deploying facemask detection"
   ]
  },
  {
   "cell_type": "markdown",
   "metadata": {},
   "source": [
    "## Subscribe to the Model Package\n",
    "Before you can deploy the model, your account needs to be subscribed to it.\n",
    "\n",
    "1. Open the Model Package listing page\n",
    "2. Read the product overview section and Highlights section to understand the value proposition of our model package.\n",
    "3. View usage information and then additional resources sections. \n",
    "4. Click on Continue to Subscribe button & then Click on \"Accept Offer\" button on the next page.\n",
    "5. Next, Continue to Configuration button becomes activated and when you click on the button, you will see that a Product Arn will appear.\n",
    "6. You have successfully subscribed to our model package. You can find it in your [SageMaker console](https://console.aws.amazon.com/sagemaker/home?region=us-east-1#/model-packages/my-subscriptions).\n",
    "7. Close the page and continue executing this notebook.\n"
   ]
  },
  {
   "cell_type": "markdown",
   "metadata": {},
   "source": [
    "## Imports"
   ]
  },
  {
   "cell_type": "code",
   "execution_count": 9,
   "metadata": {},
   "outputs": [],
   "source": [
    "import sagemaker as sage\n",
    "import os\n",
    "import boto3\n",
    "from sagemaker import get_execution_role\n",
    "from sagemaker import transformer\n",
    "from sagemaker import model\n",
    "\n",
    "role = get_execution_role()"
   ]
  },
  {
   "cell_type": "markdown",
   "metadata": {},
   "source": [
    "## Create the session\n",
    "\n",
    "The session remembers our connection parameters to Amazon SageMaker. We'll use it to perform all of our SageMaker operations."
   ]
  },
  {
   "cell_type": "code",
   "execution_count": 10,
   "metadata": {},
   "outputs": [
    {
     "data": {
      "text/plain": [
       "'us-east-2'"
      ]
     },
     "execution_count": 10,
     "metadata": {},
     "output_type": "execute_result"
    }
   ],
   "source": [
    "sess = sage.Session()\n",
    "\n",
    "account = sess.boto_session.client('sts').get_caller_identity()['Account']\n",
    "region = sess.boto_session.region_name\n",
    "region"
   ]
  },
  {
   "cell_type": "markdown",
   "metadata": {},
   "source": [
    "## Create Model\n",
    "\n",
    "Now we use the License Plate Detection & Recognition Model Package to create a model."
   ]
  },
  {
   "cell_type": "code",
   "execution_count": 11,
   "metadata": {},
   "outputs": [],
   "source": [
    "from src.model_package_arns import ModelPackageArnProvider"
   ]
  },
  {
   "cell_type": "code",
   "execution_count": 12,
   "metadata": {},
   "outputs": [
    {
     "name": "stderr",
     "output_type": "stream",
     "text": [
      "Parameter image will be renamed to image_uri in SageMaker Python SDK v2.\n"
     ]
    },
    {
     "name": "stdout",
     "output_type": "stream",
     "text": [
      "arn:aws:sagemaker:us-east-2:165536952993:model-package/social-1595969497\n"
     ]
    }
   ],
   "source": [
    "from sagemaker import ModelPackage\n",
    "modelpackage_arn = ModelPackageArnProvider.get_model_package_arn(sess.boto_region_name)\n",
    "\n",
    "# Define predictor wrapper class\n",
    "def predict_wrapper(endpoint, session):\n",
    "    return sage.RealTimePredictor(endpoint, session, content_type='video/mp4')\n",
    "\n",
    "# Create a deployable model\n",
    "model = ModelPackage(role=role,\n",
    "                                      model_package_arn = modelpackage_arn,\n",
    "                                      sagemaker_session = sess,\n",
    "                                      predictor_cls = predict_wrapper)\n",
    "# ARN\n",
    "print(modelpackage_arn)"
   ]
  },
  {
   "cell_type": "markdown",
   "metadata": {},
   "source": [
    "## Live Inference Endpoint\n",
    "\n",
    "Now we demonstrate the creation of an endpoint for live inference"
   ]
  },
  {
   "cell_type": "code",
   "execution_count": 13,
   "metadata": {},
   "outputs": [
    {
     "name": "stdout",
     "output_type": "stream",
     "text": [
      "--------------!"
     ]
    }
   ],
   "source": [
    "# Deploy the model\n",
    "predictor = model.deploy(1, 'ml.m4.xlarge', endpoint_name='social-detection-endpoint')"
   ]
  },
  {
   "cell_type": "markdown",
   "metadata": {},
   "source": [
    "## Testing on a Single video File \n",
    "\n",
    "The model takes a video file as input. We give the location of the sample input file and prepare it for payload. An example has been shown in the following code shell.\n"
   ]
  },
  {
   "cell_type": "code",
   "execution_count": 14,
   "metadata": {},
   "outputs": [],
   "source": [
    "file_name = 'data/lobby.mp4'"
   ]
  },
  {
   "cell_type": "code",
   "execution_count": 15,
   "metadata": {},
   "outputs": [],
   "source": [
    "endpoint_name='social-inference'"
   ]
  },
  {
   "cell_type": "markdown",
   "metadata": {},
   "source": [
    "### Preparing the Input Payload and Viewing the Response"
   ]
  },
  {
   "cell_type": "code",
   "execution_count": 18,
   "metadata": {},
   "outputs": [
    {
     "name": "stdout",
     "output_type": "stream",
     "text": [
      "                           TOTAL COUNT  ... SAFE COUNT\n",
      "2020-07-28 21:38:50.367724           3  ...          0\n",
      "2020-07-28 21:38:50.372058           3  ...          0\n",
      "2020-07-28 21:38:50.375093           3  ...          0\n",
      "2020-07-28 21:38:51.204435           3  ...          0\n",
      "2020-07-28 21:38:51.207972           3  ...          0\n",
      "2020-07-28 21:38:51.211006           3  ...          0\n",
      "2020-07-28 21:38:51.966729           3  ...          0\n",
      "2020-07-28 21:38:51.970245           3  ...          0\n",
      "2020-07-28 21:38:51.973269           3  ...          0\n",
      "2020-07-28 21:38:52.769110           3  ...          0\n",
      "2020-07-28 21:38:52.772623           3  ...          0\n",
      "2020-07-28 21:38:52.775606           3  ...          0\n",
      "2020-07-28 21:38:53.534984           4  ...          0\n",
      "2020-07-28 21:38:53.538554           4  ...          0\n",
      "2020-07-28 21:38:53.541516           4  ...          0\n",
      "2020-07-28 21:38:53.544440           4  ...          0\n",
      "2020-07-28 21:38:54.300142           4  ...          0\n",
      "2020-07-28 21:38:54.303671           4  ...          0\n",
      "2020-07-28 21:38:54.306953           4  ...          0\n",
      "2020-07-28 21:38:54.309912           4  ...          0\n",
      "2020-07-28 21:38:55.092319           5  ...          0\n",
      "2020-07-28 21:38:55.095712           5  ...          0\n",
      "2020-07-28 21:38:55.098603           5  ...          0\n",
      "2020-07-28 21:38:55.101417           5  ...          0\n",
      "2020-07-28 21:38:55.104233           5  ...          0\n",
      "2020-07-28 21:38:55.864357           5  ...          0\n",
      "2020-07-28 21:38:55.867784           5  ...          0\n",
      "2020-07-28 21:38:55.870680           5  ...          0\n",
      "2020-07-28 21:38:55.873491           5  ...          0\n",
      "2020-07-28 21:38:55.876292           5  ...          0\n",
      "...                                ...  ...        ...\n",
      "2020-07-28 21:39:04.553896           5  ...          0\n",
      "2020-07-28 21:39:04.556868           5  ...          0\n",
      "2020-07-28 21:39:04.559824           5  ...          0\n",
      "2020-07-28 21:39:04.562818           5  ...          0\n",
      "2020-07-28 21:39:05.357600           4  ...          0\n",
      "2020-07-28 21:39:05.361302           4  ...          0\n",
      "2020-07-28 21:39:05.364304           4  ...          0\n",
      "2020-07-28 21:39:05.367264           4  ...          0\n",
      "2020-07-28 21:39:06.120825           4  ...          0\n",
      "2020-07-28 21:39:06.124354           4  ...          0\n",
      "2020-07-28 21:39:06.127368           4  ...          0\n",
      "2020-07-28 21:39:06.130326           4  ...          0\n",
      "2020-07-28 21:39:06.893135           5  ...          0\n",
      "2020-07-28 21:39:06.896711           5  ...          0\n",
      "2020-07-28 21:39:06.900266           5  ...          0\n",
      "2020-07-28 21:39:06.903974           5  ...          0\n",
      "2020-07-28 21:39:06.906931           5  ...          0\n",
      "2020-07-28 21:39:07.670148           5  ...          0\n",
      "2020-07-28 21:39:07.673702           5  ...          0\n",
      "2020-07-28 21:39:07.676780           5  ...          0\n",
      "2020-07-28 21:39:07.679921           5  ...          0\n",
      "2020-07-28 21:39:07.682933           5  ...          0\n",
      "2020-07-28 21:39:08.443938           4  ...          0\n",
      "2020-07-28 21:39:08.447428           4  ...          0\n",
      "2020-07-28 21:39:08.450412           4  ...          0\n",
      "2020-07-28 21:39:08.453322           4  ...          0\n",
      "2020-07-28 21:39:09.247159           4  ...          0\n",
      "2020-07-28 21:39:09.250726           4  ...          0\n",
      "2020-07-28 21:39:09.253713           4  ...          0\n",
      "2020-07-28 21:39:09.256642           4  ...          0\n",
      "\n",
      "[111 rows x 4 columns]\n"
     ]
    }
   ],
   "source": [
    "# Open the file and read the image into a bytearray.\n",
    "with open(file_name, \"rb\") as image:\n",
    "  b = bytearray(image.read())\n",
    "\n",
    "# Perform a prediction\n",
    "result = predictor.predict(b).decode('utf-8')\n",
    "\n",
    "with open(\"data/output.txt\", \"w\") as text_file:\n",
    "    text_file.write(result)\n",
    "    \n",
    "# View the prediction\n",
    "print(result)"
   ]
  },
  {
   "cell_type": "markdown",
   "metadata": {},
   "source": [
    "### Delete the Endpoint\n",
    "\n",
    "\n",
    "Now that you have successfully performed a real-time inference, you do not need the endpoint any more. you can terminate the same to avoid being charged.\n"
   ]
  },
  {
   "cell_type": "code",
   "execution_count": null,
   "metadata": {},
   "outputs": [],
   "source": [
    "predictor = sage.RealTimePredictor(endpoint_name, sess, content_type='video/mp4')\n",
    "predictor.delete_endpoint(delete_endpoint_config=True)"
   ]
  }
 ],
 "metadata": {
  "kernelspec": {
   "display_name": "conda_python3",
   "language": "python",
   "name": "conda_python3"
  },
  "language_info": {
   "codemirror_mode": {
    "name": "ipython",
    "version": 3
   },
   "file_extension": ".py",
   "mimetype": "text/x-python",
   "name": "python",
   "nbconvert_exporter": "python",
   "pygments_lexer": "ipython3",
   "version": "3.6.10"
  }
 },
 "nbformat": 4,
 "nbformat_minor": 2
}
